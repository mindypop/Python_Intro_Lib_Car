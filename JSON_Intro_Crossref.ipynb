{
 "cells": [
  {
   "cell_type": "code",
   "execution_count": 1,
   "metadata": {},
   "outputs": [],
   "source": [
    "import urllib.request\n",
    "import json"
   ]
  },
  {
   "cell_type": "code",
   "execution_count": 6,
   "metadata": {},
   "outputs": [],
   "source": [
    "#Hier die Url zu allen und dann jeweils den doi dran.\n",
    "url = \"https://api.crossref.org/works/\"\n",
    "# Einzelner DOI\n",
    "doi = \"10.1371/journal.pcbi.1004668\"\n",
    "#Zusammenkloppen\n",
    "full_url = url + doi"
   ]
  },
  {
   "cell_type": "code",
   "execution_count": 5,
   "metadata": {},
   "outputs": [
    {
     "data": {
      "text/plain": [
       "'https://api.crossref.org/works/10.1371/journal.pcbi.1004668'"
      ]
     },
     "execution_count": 5,
     "metadata": {},
     "output_type": "execute_result"
    }
   ],
   "source": [
    "full_url"
   ]
  },
  {
   "cell_type": "code",
   "execution_count": 11,
   "metadata": {},
   "outputs": [],
   "source": [
    "#Hier als Argument unsere zusammengekloppte url. urlopen ist die Methode. Das Objekt hat eine Methode: read\n",
    "doi_json_data = urllib.request.urlopen(full_url).read()"
   ]
  },
  {
   "cell_type": "code",
   "execution_count": 13,
   "metadata": {
    "scrolled": true
   },
   "outputs": [
    {
     "name": "stdout",
     "output_type": "stream",
     "text": [
      "b'{\"status\":\"ok\",\"message-type\":\"work\",\"message-version\":\"1.0.0\",\"message\":{\"indexed\":{\"date-parts\":[[2019,5,16]],\"date-time\":\"2019-05-16T07:44:05Z\",\"timestamp\":1557992645228},\"reference-count\":6,\"publisher\":\"Public Library of Science (PLoS)\",\"issue\":\"1\",\"license\":[{\"URL\":\"http:\\\\/\\\\/creativecommons.org\\\\/licenses\\\\/by\\\\/4.0\\\\/\",\"start\":{\"date-parts\":[[2016,1,19]],\"date-time\":\"2016-01-19T00:00:00Z\",\"timestamp\":1453161600000},\"delay-in-days\":0,\"content-version\":\"vor\"}],\"content-domain\":{\"domain\":[\"www.ploscompbiol.org\"],\"crossmark-restriction\":false},\"short-container-title\":[\"PLoS Comput Biol\"],\"DOI\":\"10.1371\\\\/journal.pcbi.1004668\",\"type\":\"journal-article\",\"created\":{\"date-parts\":[[2016,1,19]],\"date-time\":\"2016-01-19T21:35:29Z\",\"timestamp\":1453239329000},\"page\":\"e1004668\",\"update-policy\":\"http:\\\\/\\\\/dx.doi.org\\\\/10.1371\\\\/journal.pcbi.corrections_policy\",\"source\":\"Crossref\",\"is-referenced-by-count\":28,\"title\":[\"A Quick Introduction to Version Control with Git and GitHub\"],\"prefix\":\"10.1371\",\"volume\":\"12\",\"author\":[{\"given\":\"John D.\",\"family\":\"Blischak\",\"sequence\":\"first\",\"affiliation\":[]},{\"given\":\"Emily R.\",\"family\":\"Davenport\",\"sequence\":\"additional\",\"affiliation\":[]},{\"given\":\"Greg\",\"family\":\"Wilson\",\"sequence\":\"additional\",\"affiliation\":[]}],\"member\":\"340\",\"published-online\":{\"date-parts\":[[2016,1,19]]},\"reference\":[{\"key\":\"ref1\",\"doi-asserted-by\":\"crossref\",\"first-page\":\"7\",\"DOI\":\"10.1186\\\\/1751-0473-8-7\",\"article-title\":\"Git can facilitate greater reproducibility and increased transparency in science\",\"volume\":\"8\",\"author\":\"K Ram\",\"year\":\"2013\",\"journal-title\":\"Source Code Biol Med\"},{\"key\":\"ref2\",\"doi-asserted-by\":\"crossref\",\"first-page\":\"e1001745\",\"DOI\":\"10.1371\\\\/journal.pbio.1001745\",\"article-title\":\"Best practices for scientific computing\",\"volume\":\"12\",\"author\":\"G Wilson\",\"year\":\"2014\",\"journal-title\":\"PLoS Biol\"},{\"key\":\"ref3\",\"doi-asserted-by\":\"crossref\",\"first-page\":\"57\",\"DOI\":\"10.1038\\\\/nature11247\",\"article-title\":\"An integrated encyclopedia of DNA elements in the human genome\",\"volume\":\"489\",\"author\":\"B Bernstein\",\"year\":\"2012\",\"journal-title\":\"Nature\"},{\"key\":\"ref4\",\"doi-asserted-by\":\"crossref\",\"first-page\":\"e1003326\",\"DOI\":\"10.1371\\\\/journal.pcbi.1003326\",\"article-title\":\"Practical guidelines for the comprehensive analysis of ChIP-seq data\",\"volume\":\"9\",\"author\":\"T Bailey\",\"year\":\"2013\",\"journal-title\":\"PLoS Comput Biol\"},{\"key\":\"ref5\",\"doi-asserted-by\":\"crossref\",\"first-page\":\"e1000424\",\"DOI\":\"10.1371\\\\/journal.pcbi.1000424\",\"article-title\":\"A quick guide to organizing computational biology projects\",\"volume\":\"5\",\"author\":\"W Noble\",\"year\":\"2009\",\"journal-title\":\"PLoS Comput Biol\"},{\"key\":\"ref6\",\"doi-asserted-by\":\"crossref\",\"first-page\":\"e1002598\",\"DOI\":\"10.1371\\\\/journal.pcbi.1002598\",\"article-title\":\"A quick guide to software licensing for the scientist-programmer\",\"volume\":\"8\",\"author\":\"A Morin\",\"year\":\"2012\",\"journal-title\":\"PLoS Comput Biol\"}],\"container-title\":[\"PLOS Computational Biology\"],\"original-title\":[],\"language\":\"en\",\"link\":[{\"URL\":\"http:\\\\/\\\\/dx.plos.org\\\\/10.1371\\\\/journal.pcbi.1004668\",\"content-type\":\"unspecified\",\"content-version\":\"vor\",\"intended-application\":\"similarity-checking\"}],\"deposited\":{\"date-parts\":[[2017,6,24]],\"date-time\":\"2017-06-24T04:04:33Z\",\"timestamp\":1498277073000},\"score\":1.0,\"subtitle\":[],\"editor\":[{\"given\":\"Francis\",\"family\":\"Ouellette\",\"sequence\":\"first\",\"affiliation\":[]}],\"short-title\":[],\"issued\":{\"date-parts\":[[2016,1,19]]},\"references-count\":6,\"journal-issue\":{\"published-online\":{\"date-parts\":[[2016,1,19]]},\"issue\":\"1\"},\"URL\":\"http:\\\\/\\\\/dx.doi.org\\\\/10.1371\\\\/journal.pcbi.1004668\",\"relation\":{\"cites\":[]},\"ISSN\":[\"1553-7358\"],\"issn-type\":[{\"value\":\"1553-7358\",\"type\":\"electronic\"}]}}'\n"
     ]
    }
   ],
   "source": [
    "print(doi_json_data)"
   ]
  },
  {
   "cell_type": "code",
   "execution_count": 15,
   "metadata": {},
   "outputs": [],
   "source": [
    "#Wie sehen: String, Zeichenkette rausbekommen. beginnt und endet mit {}. Ist aber 1 lange Zeichenkette. Ist kein dictionary. \n",
    "#in ein python dictionary übersetzen, weil weiß noch nicht das es so was wie key mit wert gibt:\n",
    "# da hier \"\" drum herum kann da sonst was drinstehen, erst wenn weg sind, wird es ein dictionary string = \"{\"ysd : 7\"}\" \n",
    "doi_data = json.loads(doi_json_data)"
   ]
  },
  {
   "cell_type": "code",
   "execution_count": 17,
   "metadata": {},
   "outputs": [
    {
     "data": {
      "text/plain": [
       "dict"
      ]
     },
     "execution_count": 17,
     "metadata": {},
     "output_type": "execute_result"
    }
   ],
   "source": [
    "#Jetzt übersetzt und nun herausfinden. Ich glaube jetzt kann die einzelnen sachen ansprechen, wie year und so und da dann values zurückbekommen.\n",
    "type(doi_data)"
   ]
  },
  {
   "cell_type": "code",
   "execution_count": 19,
   "metadata": {},
   "outputs": [
    {
     "data": {
      "text/plain": [
       "dict_keys(['status', 'message-type', 'message-version', 'message'])"
      ]
     },
     "execution_count": 19,
     "metadata": {},
     "output_type": "execute_result"
    }
   ],
   "source": [
    "#jetzt da dict, kann man sich keys ausgeben lassen.\n",
    "doi_data.keys()"
   ]
  },
  {
   "cell_type": "code",
   "execution_count": 20,
   "metadata": {},
   "outputs": [
    {
     "name": "stdout",
     "output_type": "stream",
     "text": [
      "{'status': 'ok', 'message-type': 'work', 'message-version': '1.0.0', 'message': {'indexed': {'date-parts': [[2019, 5, 16]], 'date-time': '2019-05-16T07:44:05Z', 'timestamp': 1557992645228}, 'reference-count': 6, 'publisher': 'Public Library of Science (PLoS)', 'issue': '1', 'license': [{'URL': 'http://creativecommons.org/licenses/by/4.0/', 'start': {'date-parts': [[2016, 1, 19]], 'date-time': '2016-01-19T00:00:00Z', 'timestamp': 1453161600000}, 'delay-in-days': 0, 'content-version': 'vor'}], 'content-domain': {'domain': ['www.ploscompbiol.org'], 'crossmark-restriction': False}, 'short-container-title': ['PLoS Comput Biol'], 'DOI': '10.1371/journal.pcbi.1004668', 'type': 'journal-article', 'created': {'date-parts': [[2016, 1, 19]], 'date-time': '2016-01-19T21:35:29Z', 'timestamp': 1453239329000}, 'page': 'e1004668', 'update-policy': 'http://dx.doi.org/10.1371/journal.pcbi.corrections_policy', 'source': 'Crossref', 'is-referenced-by-count': 28, 'title': ['A Quick Introduction to Version Control with Git and GitHub'], 'prefix': '10.1371', 'volume': '12', 'author': [{'given': 'John D.', 'family': 'Blischak', 'sequence': 'first', 'affiliation': []}, {'given': 'Emily R.', 'family': 'Davenport', 'sequence': 'additional', 'affiliation': []}, {'given': 'Greg', 'family': 'Wilson', 'sequence': 'additional', 'affiliation': []}], 'member': '340', 'published-online': {'date-parts': [[2016, 1, 19]]}, 'reference': [{'key': 'ref1', 'doi-asserted-by': 'crossref', 'first-page': '7', 'DOI': '10.1186/1751-0473-8-7', 'article-title': 'Git can facilitate greater reproducibility and increased transparency in science', 'volume': '8', 'author': 'K Ram', 'year': '2013', 'journal-title': 'Source Code Biol Med'}, {'key': 'ref2', 'doi-asserted-by': 'crossref', 'first-page': 'e1001745', 'DOI': '10.1371/journal.pbio.1001745', 'article-title': 'Best practices for scientific computing', 'volume': '12', 'author': 'G Wilson', 'year': '2014', 'journal-title': 'PLoS Biol'}, {'key': 'ref3', 'doi-asserted-by': 'crossref', 'first-page': '57', 'DOI': '10.1038/nature11247', 'article-title': 'An integrated encyclopedia of DNA elements in the human genome', 'volume': '489', 'author': 'B Bernstein', 'year': '2012', 'journal-title': 'Nature'}, {'key': 'ref4', 'doi-asserted-by': 'crossref', 'first-page': 'e1003326', 'DOI': '10.1371/journal.pcbi.1003326', 'article-title': 'Practical guidelines for the comprehensive analysis of ChIP-seq data', 'volume': '9', 'author': 'T Bailey', 'year': '2013', 'journal-title': 'PLoS Comput Biol'}, {'key': 'ref5', 'doi-asserted-by': 'crossref', 'first-page': 'e1000424', 'DOI': '10.1371/journal.pcbi.1000424', 'article-title': 'A quick guide to organizing computational biology projects', 'volume': '5', 'author': 'W Noble', 'year': '2009', 'journal-title': 'PLoS Comput Biol'}, {'key': 'ref6', 'doi-asserted-by': 'crossref', 'first-page': 'e1002598', 'DOI': '10.1371/journal.pcbi.1002598', 'article-title': 'A quick guide to software licensing for the scientist-programmer', 'volume': '8', 'author': 'A Morin', 'year': '2012', 'journal-title': 'PLoS Comput Biol'}], 'container-title': ['PLOS Computational Biology'], 'original-title': [], 'language': 'en', 'link': [{'URL': 'http://dx.plos.org/10.1371/journal.pcbi.1004668', 'content-type': 'unspecified', 'content-version': 'vor', 'intended-application': 'similarity-checking'}], 'deposited': {'date-parts': [[2017, 6, 24]], 'date-time': '2017-06-24T04:04:33Z', 'timestamp': 1498277073000}, 'score': 1.0, 'subtitle': [], 'editor': [{'given': 'Francis', 'family': 'Ouellette', 'sequence': 'first', 'affiliation': []}], 'short-title': [], 'issued': {'date-parts': [[2016, 1, 19]]}, 'references-count': 6, 'journal-issue': {'published-online': {'date-parts': [[2016, 1, 19]]}, 'issue': '1'}, 'URL': 'http://dx.doi.org/10.1371/journal.pcbi.1004668', 'relation': {'cites': []}, 'ISSN': ['1553-7358'], 'issn-type': [{'value': '1553-7358', 'type': 'electronic'}]}}\n"
     ]
    }
   ],
   "source": [
    "print(doi_data)"
   ]
  },
  {
   "cell_type": "code",
   "execution_count": 23,
   "metadata": {},
   "outputs": [
    {
     "name": "stdout",
     "output_type": "stream",
     "text": [
      "{\n",
      "  \"status\": \"ok\",\n",
      "  \"message-type\": \"work\",\n",
      "  \"message-version\": \"1.0.0\",\n",
      "  \"message\": {\n",
      "    \"indexed\": {\n",
      "      \"date-parts\": [\n",
      "        [\n",
      "          2019,\n",
      "          5,\n",
      "          16\n",
      "        ]\n",
      "      ],\n",
      "      \"date-time\": \"2019-05-16T07:44:05Z\",\n",
      "      \"timestamp\": 1557992645228\n",
      "    },\n",
      "    \"reference-count\": 6,\n",
      "    \"publisher\": \"Public Library of Science (PLoS)\",\n",
      "    \"issue\": \"1\",\n",
      "    \"license\": [\n",
      "      {\n",
      "        \"URL\": \"http://creativecommons.org/licenses/by/4.0/\",\n",
      "        \"start\": {\n",
      "          \"date-parts\": [\n",
      "            [\n",
      "              2016,\n",
      "              1,\n",
      "              19\n",
      "            ]\n",
      "          ],\n",
      "          \"date-time\": \"2016-01-19T00:00:00Z\",\n",
      "          \"timestamp\": 1453161600000\n",
      "        },\n",
      "        \"delay-in-days\": 0,\n",
      "        \"content-version\": \"vor\"\n",
      "      }\n",
      "    ],\n",
      "    \"content-domain\": {\n",
      "      \"domain\": [\n",
      "        \"www.ploscompbiol.org\"\n",
      "      ],\n",
      "      \"crossmark-restriction\": false\n",
      "    },\n",
      "    \"short-container-title\": [\n",
      "      \"PLoS Comput Biol\"\n",
      "    ],\n",
      "    \"DOI\": \"10.1371/journal.pcbi.1004668\",\n",
      "    \"type\": \"journal-article\",\n",
      "    \"created\": {\n",
      "      \"date-parts\": [\n",
      "        [\n",
      "          2016,\n",
      "          1,\n",
      "          19\n",
      "        ]\n",
      "      ],\n",
      "      \"date-time\": \"2016-01-19T21:35:29Z\",\n",
      "      \"timestamp\": 1453239329000\n",
      "    },\n",
      "    \"page\": \"e1004668\",\n",
      "    \"update-policy\": \"http://dx.doi.org/10.1371/journal.pcbi.corrections_policy\",\n",
      "    \"source\": \"Crossref\",\n",
      "    \"is-referenced-by-count\": 28,\n",
      "    \"title\": [\n",
      "      \"A Quick Introduction to Version Control with Git and GitHub\"\n",
      "    ],\n",
      "    \"prefix\": \"10.1371\",\n",
      "    \"volume\": \"12\",\n",
      "    \"author\": [\n",
      "      {\n",
      "        \"given\": \"John D.\",\n",
      "        \"family\": \"Blischak\",\n",
      "        \"sequence\": \"first\",\n",
      "        \"affiliation\": []\n",
      "      },\n",
      "      {\n",
      "        \"given\": \"Emily R.\",\n",
      "        \"family\": \"Davenport\",\n",
      "        \"sequence\": \"additional\",\n",
      "        \"affiliation\": []\n",
      "      },\n",
      "      {\n",
      "        \"given\": \"Greg\",\n",
      "        \"family\": \"Wilson\",\n",
      "        \"sequence\": \"additional\",\n",
      "        \"affiliation\": []\n",
      "      }\n",
      "    ],\n",
      "    \"member\": \"340\",\n",
      "    \"published-online\": {\n",
      "      \"date-parts\": [\n",
      "        [\n",
      "          2016,\n",
      "          1,\n",
      "          19\n",
      "        ]\n",
      "      ]\n",
      "    },\n",
      "    \"reference\": [\n",
      "      {\n",
      "        \"key\": \"ref1\",\n",
      "        \"doi-asserted-by\": \"crossref\",\n",
      "        \"first-page\": \"7\",\n",
      "        \"DOI\": \"10.1186/1751-0473-8-7\",\n",
      "        \"article-title\": \"Git can facilitate greater reproducibility and increased transparency in science\",\n",
      "        \"volume\": \"8\",\n",
      "        \"author\": \"K Ram\",\n",
      "        \"year\": \"2013\",\n",
      "        \"journal-title\": \"Source Code Biol Med\"\n",
      "      },\n",
      "      {\n",
      "        \"key\": \"ref2\",\n",
      "        \"doi-asserted-by\": \"crossref\",\n",
      "        \"first-page\": \"e1001745\",\n",
      "        \"DOI\": \"10.1371/journal.pbio.1001745\",\n",
      "        \"article-title\": \"Best practices for scientific computing\",\n",
      "        \"volume\": \"12\",\n",
      "        \"author\": \"G Wilson\",\n",
      "        \"year\": \"2014\",\n",
      "        \"journal-title\": \"PLoS Biol\"\n",
      "      },\n",
      "      {\n",
      "        \"key\": \"ref3\",\n",
      "        \"doi-asserted-by\": \"crossref\",\n",
      "        \"first-page\": \"57\",\n",
      "        \"DOI\": \"10.1038/nature11247\",\n",
      "        \"article-title\": \"An integrated encyclopedia of DNA elements in the human genome\",\n",
      "        \"volume\": \"489\",\n",
      "        \"author\": \"B Bernstein\",\n",
      "        \"year\": \"2012\",\n",
      "        \"journal-title\": \"Nature\"\n",
      "      },\n",
      "      {\n",
      "        \"key\": \"ref4\",\n",
      "        \"doi-asserted-by\": \"crossref\",\n",
      "        \"first-page\": \"e1003326\",\n",
      "        \"DOI\": \"10.1371/journal.pcbi.1003326\",\n",
      "        \"article-title\": \"Practical guidelines for the comprehensive analysis of ChIP-seq data\",\n",
      "        \"volume\": \"9\",\n",
      "        \"author\": \"T Bailey\",\n",
      "        \"year\": \"2013\",\n",
      "        \"journal-title\": \"PLoS Comput Biol\"\n",
      "      },\n",
      "      {\n",
      "        \"key\": \"ref5\",\n",
      "        \"doi-asserted-by\": \"crossref\",\n",
      "        \"first-page\": \"e1000424\",\n",
      "        \"DOI\": \"10.1371/journal.pcbi.1000424\",\n",
      "        \"article-title\": \"A quick guide to organizing computational biology projects\",\n",
      "        \"volume\": \"5\",\n",
      "        \"author\": \"W Noble\",\n",
      "        \"year\": \"2009\",\n",
      "        \"journal-title\": \"PLoS Comput Biol\"\n",
      "      },\n",
      "      {\n",
      "        \"key\": \"ref6\",\n",
      "        \"doi-asserted-by\": \"crossref\",\n",
      "        \"first-page\": \"e1002598\",\n",
      "        \"DOI\": \"10.1371/journal.pcbi.1002598\",\n",
      "        \"article-title\": \"A quick guide to software licensing for the scientist-programmer\",\n",
      "        \"volume\": \"8\",\n",
      "        \"author\": \"A Morin\",\n",
      "        \"year\": \"2012\",\n",
      "        \"journal-title\": \"PLoS Comput Biol\"\n",
      "      }\n",
      "    ],\n",
      "    \"container-title\": [\n",
      "      \"PLOS Computational Biology\"\n",
      "    ],\n",
      "    \"original-title\": [],\n",
      "    \"language\": \"en\",\n",
      "    \"link\": [\n",
      "      {\n",
      "        \"URL\": \"http://dx.plos.org/10.1371/journal.pcbi.1004668\",\n",
      "        \"content-type\": \"unspecified\",\n",
      "        \"content-version\": \"vor\",\n",
      "        \"intended-application\": \"similarity-checking\"\n",
      "      }\n",
      "    ],\n",
      "    \"deposited\": {\n",
      "      \"date-parts\": [\n",
      "        [\n",
      "          2017,\n",
      "          6,\n",
      "          24\n",
      "        ]\n",
      "      ],\n",
      "      \"date-time\": \"2017-06-24T04:04:33Z\",\n",
      "      \"timestamp\": 1498277073000\n",
      "    },\n",
      "    \"score\": 1.0,\n",
      "    \"subtitle\": [],\n",
      "    \"editor\": [\n",
      "      {\n",
      "        \"given\": \"Francis\",\n",
      "        \"family\": \"Ouellette\",\n",
      "        \"sequence\": \"first\",\n",
      "        \"affiliation\": []\n",
      "      }\n",
      "    ],\n",
      "    \"short-title\": [],\n",
      "    \"issued\": {\n",
      "      \"date-parts\": [\n",
      "        [\n",
      "          2016,\n",
      "          1,\n",
      "          19\n",
      "        ]\n",
      "      ]\n",
      "    },\n",
      "    \"references-count\": 6,\n",
      "    \"journal-issue\": {\n",
      "      \"published-online\": {\n",
      "        \"date-parts\": [\n",
      "          [\n",
      "            2016,\n",
      "            1,\n",
      "            19\n",
      "          ]\n",
      "        ]\n",
      "      },\n",
      "      \"issue\": \"1\"\n",
      "    },\n",
      "    \"URL\": \"http://dx.doi.org/10.1371/journal.pcbi.1004668\",\n",
      "    \"relation\": {\n",
      "      \"cites\": []\n",
      "    },\n",
      "    \"ISSN\": [\n",
      "      \"1553-7358\"\n",
      "    ],\n",
      "    \"issn-type\": [\n",
      "      {\n",
      "        \"value\": \"1553-7358\",\n",
      "        \"type\": \"electronic\"\n",
      "      }\n",
      "    ]\n",
      "  }\n",
      "}\n"
     ]
    }
   ],
   "source": [
    "#Hier unser Dict einsetzen und einrücken\n",
    "print(json.dumps(doi_data, indent=2))"
   ]
  },
  {
   "cell_type": "code",
   "execution_count": 40,
   "metadata": {},
   "outputs": [
    {
     "data": {
      "text/plain": [
       "dict_keys(['indexed', 'reference-count', 'publisher', 'issue', 'license', 'content-domain', 'short-container-title', 'DOI', 'type', 'created', 'page', 'update-policy', 'source', 'is-referenced-by-count', 'title', 'prefix', 'volume', 'author', 'member', 'published-online', 'reference', 'container-title', 'original-title', 'language', 'link', 'deposited', 'score', 'subtitle', 'editor', 'short-title', 'issued', 'references-count', 'journal-issue', 'URL', 'relation', 'ISSN', 'issn-type'])"
      ]
     },
     "execution_count": 40,
     "metadata": {},
     "output_type": "execute_result"
    }
   ],
   "source": [
    "#Wir sehen die keys und beim letzten ist es nicht nur ein string, sondern nochmal ein dict. sieht man an {}\n",
    "#Jetzt keys von message ruasbekommen, keys von dict von dict:\n",
    "doi_data[\"message\"].keys()"
   ]
  },
  {
   "cell_type": "code",
   "execution_count": 46,
   "metadata": {},
   "outputs": [
    {
     "data": {
      "text/plain": [
       "['A Quick Introduction to Version Control with Git and GitHub']"
      ]
     },
     "execution_count": 46,
     "metadata": {},
     "output_type": "execute_result"
    }
   ],
   "source": [
    "#Jetzt title ausgeben:\n",
    "#()immer Methode und [] Inhalte ansprechen.\n",
    "doi_data[\"message\"][\"title\"]"
   ]
  },
  {
   "cell_type": "code",
   "execution_count": 49,
   "metadata": {},
   "outputs": [
    {
     "data": {
      "text/plain": [
       "dict"
      ]
     },
     "execution_count": 49,
     "metadata": {},
     "output_type": "execute_result"
    }
   ],
   "source": [
    "#Ansehen was es ist. \n",
    "type(doi_data[\"message\"])"
   ]
  },
  {
   "cell_type": "code",
   "execution_count": 56,
   "metadata": {},
   "outputs": [
    {
     "data": {
      "text/plain": [
       "['A Quick Introduction to Version Control with Git and GitHub']"
      ]
     },
     "execution_count": 56,
     "metadata": {},
     "output_type": "execute_result"
    }
   ],
   "source": [
    "##Nun Wert, mit [mit dem key]. Wie oben auch. Das ist eine Liste, nur 1 mit [0]. title hat eine Liste und keine keys, weil kein dict.\n",
    "doi_data[\"message\"][\"title\"]"
   ]
  },
  {
   "cell_type": "code",
   "execution_count": 53,
   "metadata": {},
   "outputs": [
    {
     "data": {
      "text/plain": [
       "'A Quick Introduction to Version Control with Git and GitHub'"
      ]
     },
     "execution_count": 53,
     "metadata": {},
     "output_type": "execute_result"
    }
   ],
   "source": [
    "#Nun [] auch weg.\n",
    "doi_data[\"message\"][\"title\"][0]"
   ]
  },
  {
   "cell_type": "code",
   "execution_count": 57,
   "metadata": {},
   "outputs": [
    {
     "data": {
      "text/plain": [
       "list"
      ]
     },
     "execution_count": 57,
     "metadata": {},
     "output_type": "execute_result"
    }
   ],
   "source": [
    "#Hier mal sehen, was es ist, ist ne Liste\n",
    "type(doi_data[\"message\"][\"title\"])"
   ]
  },
  {
   "cell_type": "code",
   "execution_count": 59,
   "metadata": {},
   "outputs": [
    {
     "data": {
      "text/plain": [
       "'PLoS Comput Biol'"
      ]
     },
     "execution_count": 59,
     "metadata": {},
     "output_type": "execute_result"
    }
   ],
   "source": [
    "#ist nur 1 doi, daher nur 1 da und das short-container-title kommt oben aus den keys, wissen wir, dass es so heißt.\n",
    "doi_data[\"message\"][\"short-container-title\"][0]"
   ]
  },
  {
   "cell_type": "markdown",
   "metadata": {},
   "source": [
    "## Übung"
   ]
  },
  {
   "cell_type": "code",
   "execution_count": 60,
   "metadata": {},
   "outputs": [],
   "source": [
    "# Liste mit DOIs\n",
    "dois = [\"10.1371/journal.pcbi.1004668\", \n",
    "        \"10.21105/joss.01035\", \n",
    "        \"10.1038/35057062\", \n",
    "        \"10.21105/joss.01006\"]"
   ]
  },
  {
   "cell_type": "code",
   "execution_count": 70,
   "metadata": {},
   "outputs": [
    {
     "name": "stdout",
     "output_type": "stream",
     "text": [
      "A Quick Introduction to Version Control with Git and GitHub\n",
      "PLoS Comput Biol\n",
      "10.21105/joss.01006\n",
      "nasapower: A NASA POWER Global Meteorology, Surface Solar Energy and Climatology Data Client for R\n",
      "JOSS\n",
      "10.21105/joss.01006\n",
      "Initial sequencing and analysis of the human genome\n",
      "Nature\n",
      "10.21105/joss.01006\n",
      "SeqTools: A python package for easy transformation, combination and evaluation of large datasets.\n",
      "JOSS\n",
      "10.21105/joss.01006\n"
     ]
    }
   ],
   "source": [
    "#Für jede JSON Daten holen und print title, short container title und doi.\n",
    "import urllib.request\n",
    "import json\n",
    "url = \"https://api.crossref.org/works/\"\n",
    "for doi in dois:\n",
    "    #Zusammenkloppen\n",
    "    full_url = url + doi\n",
    "    doi_json_data = urllib.request.urlopen(full_url).read()\n",
    "    doi_data = json.loads(doi_json_data)\n",
    "    print (doi_data[\"message\"][\"title\"][0])\n",
    "    print (doi_data[\"message\"][\"short-container-title\"][0])\n",
    "    print(doi)\n"
   ]
  },
  {
   "cell_type": "code",
   "execution_count": 77,
   "metadata": {},
   "outputs": [
    {
     "name": "stdout",
     "output_type": "stream",
     "text": [
      "A Quick Introduction to Version Control with Git and GitHub\n",
      "PLoS Comput Biol\n",
      "10.21105/joss.01006\n",
      "nasapower: A NASA POWER Global Meteorology, Surface Solar Energy and Climatology Data Client for R\n",
      "JOSS\n",
      "10.21105/joss.01006\n",
      "Initial sequencing and analysis of the human genome\n",
      "Nature\n",
      "10.21105/joss.01006\n",
      "SeqTools: A python package for easy transformation, combination and evaluation of large datasets.\n",
      "JOSS\n",
      "10.21105/joss.01006\n"
     ]
    }
   ],
   "source": [
    "##Erklärung\n",
    "#Für jede JSON Daten holen und print title, short container title und doi\n",
    "#Geht die Liste durch und weiß das nur 1 drin ist durch die Synthax \"\" , \n",
    "import urllib.request\n",
    "import json\n",
    "url = \"https://api.crossref.org/works/\"\n",
    "for wasichhabenwill in dois:\n",
    "    #Zusammenkloppen\n",
    "    full_url = url + wasichhabenwill\n",
    "    doi_json_data = urllib.request.urlopen(full_url).read()\n",
    "    doi_data = json.loads(doi_json_data)\n",
    "    print (doi_data[\"message\"][\"title\"][0])\n",
    "    print (doi_data[\"message\"][\"short-container-title\"][0])\n",
    "    print(doi)"
   ]
  },
  {
   "cell_type": "code",
   "execution_count": 104,
   "metadata": {},
   "outputs": [
    {
     "name": "stdout",
     "output_type": "stream",
     "text": [
      "\n",
      "10.1371/journal.pcbi.1004668 - A Quick Introduction to Version Control with Git and GitHub - PLoS Comput Biol\n",
      "\n",
      "10.21105/joss.01035 - nasapower: A NASA POWER Global Meteorology, Surface Solar Energy and Climatology Data Client for R - JOSS\n",
      "\n",
      "10.1038/35057062 - Initial sequencing and analysis of the human genome - Nature\n",
      "\n",
      "10.21105/joss.01006 - SeqTools: A python package for easy transformation, combination and evaluation of large datasets. - JOSS\n"
     ]
    }
   ],
   "source": [
    "#Schöner\n",
    "#Für jede JSON Daten holen und print title, short container title und doi.\n",
    "import urllib.request\n",
    "import json\n",
    "url = \"https://api.crossref.org/works/\"\n",
    "for doi in dois:\n",
    "    #Zusammenkloppen\n",
    "    full_url = url + doi\n",
    "    doi_json_data = urllib.request.urlopen(full_url).read()\n",
    "    doi_data = json.loads(doi_json_data)\n",
    "    title = (doi_data[\"message\"][\"title\"][0])\n",
    "    short = (doi_data[\"message\"][\"short-container-title\"][0])\n",
    "    alles = (doi +\" - \"+ title +\" - \"+ short)\n",
    "    print()\n",
    "    print (alles)\n",
    "    "
   ]
  },
  {
   "cell_type": "code",
   "execution_count": 89,
   "metadata": {},
   "outputs": [
    {
     "name": "stdout",
     "output_type": "stream",
     "text": [
      "<class 'str'>\n",
      "<class 'str'>\n",
      "<class 'str'>\n",
      "<class 'str'>\n"
     ]
    }
   ],
   "source": [
    "#Schöner\n",
    "#Für jede JSON Daten holen und print title, short container title und doi.\n",
    "import urllib.request\n",
    "import json\n",
    "url = \"https://api.crossref.org/works/\"\n",
    "for doi in dois:\n",
    "    #Zusammen\n",
    "    full_url = url + doi\n",
    "    doi_json_data = urllib.request.urlopen(full_url).read()\n",
    "    doi_data = json.loads(doi_json_data)\n",
    "    title = (doi_data[\"message\"][\"title\"][0])\n",
    "    short = (doi_data[\"message\"][\"short-container-title\"][0])\n",
    "    alles = (doi +\" - \"+ title +\" - \"+ short)\n",
    "    print(type(alles))"
   ]
  },
  {
   "cell_type": "code",
   "execution_count": 91,
   "metadata": {},
   "outputs": [
    {
     "name": "stdout",
     "output_type": "stream",
     "text": [
      "10.1371/journal.pcbi.1004668\n",
      "10.21105/joss.01035\n",
      "10.1038/35057062\n",
      "10.21105/joss.01006\n"
     ]
    }
   ],
   "source": [
    "##Lösung von LibCar:\n",
    "# Liste mit DOIs\n",
    "dois = [\"10.1371/journal.pcbi.1004668\", \n",
    "        \"10.21105/joss.01035\", \n",
    "        \"10.1038/35057062\", \n",
    "        \"10.21105/joss.01006\"]\n",
    "#Liste durch und print jeses Element\n",
    "for doi in dois:\n",
    "       print(doi)\n"
   ]
  },
  {
   "cell_type": "code",
   "execution_count": 105,
   "metadata": {},
   "outputs": [
    {
     "name": "stdout",
     "output_type": "stream",
     "text": [
      "10.1371/journal.pcbi.1004668\n",
      "A Quick Introduction to Version Control with Git and GitHub\n",
      "PLoS Comput Biol\n",
      "\n",
      "10.21105/joss.01035\n",
      "nasapower: A NASA POWER Global Meteorology, Surface Solar Energy and Climatology Data Client for R\n",
      "JOSS\n",
      "\n",
      "10.1038/35057062\n",
      "Initial sequencing and analysis of the human genome\n",
      "Nature\n",
      "\n",
      "10.21105/joss.01006\n",
      "SeqTools: A python package for easy transformation, combination and evaluation of large datasets.\n",
      "JOSS\n",
      "\n"
     ]
    }
   ],
   "source": [
    "##Lösung von LibCar:\n",
    "# Liste mit DOIs\n",
    "dois = [\"10.1371/journal.pcbi.1004668\", \n",
    "        \"10.21105/joss.01035\", \n",
    "        \"10.1038/35057062\", \n",
    "        \"10.21105/joss.01006\"]\n",
    "url = \"https://api.crossref.org/works/\"\n",
    "#Liste durch und print jeses Element, holen und zusammen. dann übersetzen in dict. Mit print() Leerzeichen machen dazwischen\n",
    "for doi in dois:\n",
    "        doi_json_data = urllib.request.urlopen(\n",
    "        url + doi).read()\n",
    "        doi_data = json.loads(doi_json_data)\n",
    "        print(doi)\n",
    "        print (doi_data[\"message\"][\"title\"][0])\n",
    "        print (doi_data[\"message\"][\"short-container-title\"][0])\n",
    "        print()\n"
   ]
  },
  {
   "cell_type": "code",
   "execution_count": 108,
   "metadata": {},
   "outputs": [
    {
     "name": "stdout",
     "output_type": "stream",
     "text": [
      "My name is Hugo.\n"
     ]
    }
   ],
   "source": [
    "#f strings\n",
    "name = \"Hugo\"\n",
    "print (f\"My name is {name}.\")"
   ]
  },
  {
   "cell_type": "code",
   "execution_count": 109,
   "metadata": {},
   "outputs": [],
   "source": [
    "##Man könnte auch Datei nehmen. Pro Zeile dann oder mit Pandas als Excel, für erste Spalte das u das. Siehe bei Python csv intro.\n",
    "#nur doi umbenennen, weil in liste das so stehen in der beispieldatei von gestern."
   ]
  },
  {
   "cell_type": "code",
   "execution_count": null,
   "metadata": {},
   "outputs": [],
   "source": []
  }
 ],
 "metadata": {
  "kernelspec": {
   "display_name": "Python 3",
   "language": "python",
   "name": "python3"
  },
  "language_info": {
   "codemirror_mode": {
    "name": "ipython",
    "version": 3
   },
   "file_extension": ".py",
   "mimetype": "text/x-python",
   "name": "python",
   "nbconvert_exporter": "python",
   "pygments_lexer": "ipython3",
   "version": "3.7.3"
  }
 },
 "nbformat": 4,
 "nbformat_minor": 2
}
